{
 "cells": [
  {
   "cell_type": "code",
   "execution_count": 1,
   "metadata": {},
   "outputs": [],
   "source": [
    "#################################################################################################################################\n",
    "#######         Create Choropleth Map of US States showing Age Adjusted Death Rates                                       #######"
   ]
  },
  {
   "cell_type": "code",
   "execution_count": 2,
   "metadata": {},
   "outputs": [],
   "source": [
    "#import modules\n",
    "import pandas as pd\n",
    "from config import (API_Key, plotly_key)\n",
    "#import gmaps\n",
    "\n",
    "import plotly\n",
    "plotly.tools.set_credentials_file(username='eyangeric', api_key=plotly_key)\n",
    "plotly.tools.set_config_file(world_readable=True, sharing='public')"
   ]
  },
  {
   "cell_type": "code",
   "execution_count": 3,
   "metadata": {},
   "outputs": [],
   "source": [
    "#dataset of leading causes of death\n",
    "Death_Rates = pd.read_csv(\"Datasets/NCHS_-_Leading_Causes_of_Death__United_States.csv\")\n",
    "\n",
    "#dataset with the US State specific geolocations\n",
    "US_States_GeoLocations = pd.read_csv(\"Datasets/US_States_GeoLocations.csv\")"
   ]
  },
  {
   "cell_type": "code",
   "execution_count": 4,
   "metadata": {},
   "outputs": [],
   "source": [
    "#restrict dataset to just the State and State abbreviations columns\n",
    "# US_State_Abbrev = US_States_GeoLocations[['State', 'State_Abbr']]"
   ]
  },
  {
   "cell_type": "code",
   "execution_count": 5,
   "metadata": {},
   "outputs": [
    {
     "data": {
      "text/plain": [
       "array(['Accidents (unintentional injuries) (V01-X59,Y85-Y86)',\n",
       "       'All Causes', \"Alzheimer's disease (G30)\",\n",
       "       'Malignant neoplasms (C00-C97)',\n",
       "       'Chronic lower respiratory diseases (J40-J47)',\n",
       "       'Diabetes mellitus (E10-E14)',\n",
       "       'Diseases of heart (I00-I09,I11,I13,I20-I51)',\n",
       "       'Influenza and pneumonia (J09-J18)',\n",
       "       'Nephritis, nephrotic syndrome and nephrosis (N00-N07,N17-N19,N25-N27)',\n",
       "       'Cerebrovascular diseases (I60-I69)',\n",
       "       'Intentional self-harm (suicide) (*U03,X60-X84,Y87.0)'],\n",
       "      dtype=object)"
      ]
     },
     "execution_count": 5,
     "metadata": {},
     "output_type": "execute_result"
    }
   ],
   "source": [
    "#unique causes of death\n",
    "Death_Rates['113 Cause Name'].unique()"
   ]
  },
  {
   "cell_type": "code",
   "execution_count": 6,
   "metadata": {},
   "outputs": [],
   "source": [
    "#remove rows for entire overall US numbers\n",
    "Death_Rates = Death_Rates[(Death_Rates['State'] != 'United States') | (Death_Rates['State'] != 'District of Columbia')]\n",
    "\n",
    "#merge Death Rates with State Abbreviation Dataset\n",
    "Death_Rates = pd.merge(Death_Rates, US_State_Abbrev, on = 'State', how = 'left')\n",
    "\n",
    "#restrict dataset to 2016 Diseases of Heart\n",
    "HD_2016 = Death_Rates[(Death_Rates['113 Cause Name'] == 'Diseases of heart (I00-I09,I11,I13,I20-I51)') & \n",
    "                      (Death_Rates['Year'] == 2016)]\n",
    "\n",
    "#restrict dataset to 2008 Diseases of Heart\n",
    "HD_2008 = Death_Rates[(Death_Rates['113 Cause Name'] == 'Diseases of heart (I00-I09,I11,I13,I20-I51)') & \n",
    "                      (Death_Rates['Year'] == 2008)]\n",
    "\n",
    "#restrict dataset to 2000 Diseases of Heart\n",
    "HD_2000 = Death_Rates[(Death_Rates['113 Cause Name'] == 'Diseases of heart (I00-I09,I11,I13,I20-I51)') & \n",
    "                      (Death_Rates['Year'] == 2000)]\n",
    "\n",
    "#restrict dataset to 2016 Cancer\n",
    "Cancer_2016 = Death_Rates[(Death_Rates['113 Cause Name'] == 'Malignant neoplasms (C00-C97)') & \n",
    "                      (Death_Rates['Year'] == 2016)]\n",
    "\n",
    "#restrict dataset to 2008 Cancer\n",
    "Cancer_2008 = Death_Rates[(Death_Rates['113 Cause Name'] == 'Malignant neoplasms (C00-C97)') & \n",
    "                      (Death_Rates['Year'] == 2008)]\n",
    "\n",
    "#restrict dataset to 2000 Cancer\n",
    "Cancer_2000 = Death_Rates[(Death_Rates['113 Cause Name'] == 'Malignant neoplasms (C00-C97)') & \n",
    "                      (Death_Rates['Year'] == 2000)]"
   ]
  },
  {
   "cell_type": "code",
   "execution_count": 7,
   "metadata": {},
   "outputs": [],
   "source": [
    "# #Separate Geolocation varible into Latitude and Longitude columns\n",
    "# lats = []\n",
    "# lngs = []\n",
    "\n",
    "# #separte GeoLocation column into Latitude and Longitude Lists\n",
    "# for i, row in US_States_GeoLocations.iterrows():\n",
    "#     geo_loc_partition = row[3].partition(',')\n",
    "#     lats.append(geo_loc_partition[0].replace('(', ''))\n",
    "#     lngs.append(geo_loc_partition[2].replace(')', ''))\n",
    "    \n",
    "# GeoLocations = pd.DataFrame({'Latitude' : lats, 'Longitude': lngs})\n",
    "\n",
    "# #Join Data Frames\n",
    "# US_States_Geo_Cleaned = US_States_GeoLocations.join(GeoLocations) \n",
    "\n",
    "# #remove Guam and Puerto Rico\n",
    "# US_States_Geo_Cleaned = US_States_Geo_Cleaned[US_States_Geo_Cleaned['State'].isin(['Guam', 'Puerto Rico', 'Virgin Islands']) == False]\n",
    "\n",
    "# #check new Data Frame\n",
    "# US_States_Geo_Cleaned.head()"
   ]
  },
  {
   "cell_type": "code",
   "execution_count": 8,
   "metadata": {},
   "outputs": [],
   "source": [
    "# #Merge Geolocation dataset with death rate dataset\n",
    "# US_States_Death_Final = pd.merge(HD_2016, US_States_Geo_Cleaned, on=['State', 'Year'])\n",
    "# US_States_Death_Final.head()"
   ]
  },
  {
   "cell_type": "code",
   "execution_count": 9,
   "metadata": {},
   "outputs": [],
   "source": [
    "# Configure gmaps with API key\n",
    "# gmaps.configure(api_key=API_Key)"
   ]
  },
  {
   "cell_type": "code",
   "execution_count": 10,
   "metadata": {},
   "outputs": [],
   "source": [
    "# Store Geolocation colunms\n",
    "# locations = US_States_Death_Final[[\"Latitude\", \"Longitude\"]].astype(float)\n",
    "\n",
    "# Store Age-adjusted death rates\n",
    "# Age_ADJ_Death_Rates = US_States_Death_Final['Age-adjusted Death Rate'].astype(float)"
   ]
  },
  {
   "cell_type": "code",
   "execution_count": 11,
   "metadata": {},
   "outputs": [],
   "source": [
    "# Create a poverty Heatmap layer\n",
    "# fig = gmaps.figure()\n",
    "\n",
    "# heat_layer = gmaps.heatmap_layer(locations, weights=Age_ADJ_Death_Rates, \n",
    "#                                  dissipating=False, max_intensity=100,\n",
    "#                                  point_radius = 1)\n",
    "\n",
    "# # Adjust heat_layer setting to help with heatmap dissipating on zoom\n",
    "# heat_layer.dissipating = False\n",
    "# heat_layer.max_intensity = 100\n",
    "# heat_layer.point_radius = 1\n",
    "\n",
    "# fig.add_layer(heat_layer)\n",
    "\n",
    "# fig"
   ]
  },
  {
   "cell_type": "code",
   "execution_count": 12,
   "metadata": {},
   "outputs": [],
   "source": [
    "#Color scheme for Heart Disease choropleth maps\n",
    "HD_scl = [[0.0, 'rgb(255,244,244)'],[0.2, 'rgb(255,224,224)'],[0.4, 'rgb(255,186,186)'],\\\n",
    "            [0.6, 'rgb(255,130,130)'],[0.8, 'rgb(255,68,68)'],[1.0, 'rgb(255,0,0)']]\n",
    "\n",
    "#Color scheme for Cancer choropleth maps\n",
    "Cancer_scl = [[0.0, 'rgb(229, 219, 255)'],[0.2, 'rgb(200, 178, 255)'],[0.4, 'rgb(166, 130, 255)'],\\\n",
    "            [0.6, 'rgb(134, 84, 255)'],[0.8, 'rgb(111, 50, 255)'],[1.0, 'rgb(76, 0, 255)']]"
   ]
  },
  {
   "cell_type": "code",
   "execution_count": 13,
   "metadata": {},
   "outputs": [],
   "source": [
    "# #Set up text of each US state in the chloropleth map\n",
    "# text_list = []\n",
    "# for i, row in HD_2016.iterrows():\n",
    "#     text = row[3]\n",
    "#     text_list.append(text)\n",
    "    \n",
    "# HD_2016['text'] = text_list"
   ]
  },
  {
   "cell_type": "code",
   "execution_count": 22,
   "metadata": {},
   "outputs": [],
   "source": [
    "######### List of plot inputs for Heart Disease #########\n",
    "HD2016_data = [ dict(\n",
    "        type='choropleth',\n",
    "        colorscale = HD_scl,\n",
    "        autocolorscale = False,\n",
    "        locations = HD_2016['State_Abbr'],\n",
    "        z = HD_2016['Age-adjusted Death Rate'].astype(float),\n",
    "        locationmode = 'USA-states',\n",
    "        text = HD_2016['State'],\n",
    "        marker = dict(\n",
    "            line = dict (\n",
    "                color = 'rgb(255,255,255)',\n",
    "                width = 2\n",
    "            ) ),\n",
    "        colorbar = dict(\n",
    "            title = \"Age-Adjusted Heart Disease Death Rates\")\n",
    "        ) ]\n",
    "\n",
    "HD2008_data = [ dict(\n",
    "        type='choropleth',\n",
    "        colorscale = HD_scl,\n",
    "        autocolorscale = False,\n",
    "        locations = HD_2008['State_Abbr'],\n",
    "        z = HD_2008['Age-adjusted Death Rate'].astype(float),\n",
    "        locationmode = 'USA-states',\n",
    "        text = HD_2008['State'],\n",
    "        marker = dict(\n",
    "            line = dict (\n",
    "                color = 'rgb(255,255,255)',\n",
    "                width = 2\n",
    "            ) ),\n",
    "        colorbar = dict(\n",
    "            title = \"Age-Adjusted Heart Disease Death Rates\")\n",
    "        ) ]\n",
    "\n",
    "HD2000_data = [ dict(\n",
    "        type='choropleth',\n",
    "        colorscale = HD_scl,\n",
    "        autocolorscale = False,\n",
    "        locations = HD_2000['State_Abbr'],\n",
    "        z = HD_2000['Age-adjusted Death Rate'].astype(float),\n",
    "        locationmode = 'USA-states',\n",
    "        text = HD_2000['State'],\n",
    "        marker = dict(\n",
    "            line = dict (\n",
    "                color = 'rgb(255,255,255)',\n",
    "                width = 2\n",
    "            ) ),\n",
    "        colorbar = dict(\n",
    "            title = \"Age-Adjusted Heart Disease Death Rates\")\n",
    "        ) ]\n",
    "\n",
    "######### List of plot inputs for Cancer #########\n",
    "Cancer2016_data = [ dict(\n",
    "        type='choropleth',\n",
    "        colorscale = Cancer_scl,\n",
    "        autocolorscale = False,\n",
    "        locations = Cancer_2016['State_Abbr'],\n",
    "        z = Cancer_2016['Age-adjusted Death Rate'].astype(float),\n",
    "        locationmode = 'USA-states',\n",
    "        text = Cancer_2016['State'],\n",
    "        marker = dict(\n",
    "            line = dict (\n",
    "                color = 'rgb(255,255,255)',\n",
    "                width = 2\n",
    "            ) ),\n",
    "        colorbar = dict(\n",
    "            title = \"Age-Adjusted Cancer Death Rates\")\n",
    "        ) ]\n",
    "\n",
    "Cancer2008_data = [ dict(\n",
    "        type='choropleth',\n",
    "        colorscale = Cancer_scl,\n",
    "        autocolorscale = False,\n",
    "        locations = Cancer_2008['State_Abbr'],\n",
    "        z = Cancer_2008['Age-adjusted Death Rate'].astype(float),\n",
    "        locationmode = 'USA-states',\n",
    "        text = Cancer_2008['State'],\n",
    "        marker = dict(\n",
    "            line = dict (\n",
    "                color = 'rgb(255,255,255)',\n",
    "                width = 2\n",
    "            ) ),\n",
    "        colorbar = dict(\n",
    "            title = \"Age-Adjusted Cancer Death Rates\")\n",
    "        ) ]\n",
    "\n",
    "Cancer2000_data = [ dict(\n",
    "        type='choropleth',\n",
    "        colorscale = Cancer_scl,\n",
    "        autocolorscale = False,\n",
    "        locations = Cancer_2000['State_Abbr'],\n",
    "        z = Cancer_2000['Age-adjusted Death Rate'].astype(float),\n",
    "        locationmode = 'USA-states',\n",
    "        text = Cancer_2000['State'],\n",
    "        marker = dict(\n",
    "            line = dict (\n",
    "                color = 'rgb(255,255,255)',\n",
    "                width = 2\n",
    "            ) ),\n",
    "        colorbar = dict(\n",
    "            title = \"Age-Adjusted Cancer Death Rates\")\n",
    "        ) ]"
   ]
  },
  {
   "cell_type": "code",
   "execution_count": 15,
   "metadata": {},
   "outputs": [],
   "source": [
    "#Plot layout for all maps\n",
    "layout = dict(\n",
    "        title = '2016 US Age-Adjusted Death Rates (per 100,000 People) by State',\n",
    "        geo = dict(\n",
    "            scope='usa',\n",
    "            projection=dict( type='albers usa' ),\n",
    "            showlakes = True,\n",
    "            lakecolor = 'rgb(0, 0, 255)'),\n",
    "             )"
   ]
  },
  {
   "cell_type": "code",
   "execution_count": 16,
   "metadata": {},
   "outputs": [
    {
     "data": {
      "text/html": [
       "<iframe id=\"igraph\" scrolling=\"no\" style=\"border:none;\" seamless=\"seamless\" src=\"https://plot.ly/~eyangeric/2.embed\" height=\"525px\" width=\"100%\"></iframe>"
      ],
      "text/plain": [
       "<plotly.tools.PlotlyDisplay object>"
      ]
     },
     "execution_count": 16,
     "metadata": {},
     "output_type": "execute_result"
    }
   ],
   "source": [
    "#2016 choropleth map of heart disease age-adjusted death rates\n",
    "HD2016_fig = dict( data=HD2016_data, layout=layout )\n",
    "plotly.plotly.iplot( HD2016_fig, filename='HD2016-cloropleth-map' )"
   ]
  },
  {
   "cell_type": "code",
   "execution_count": 17,
   "metadata": {},
   "outputs": [
    {
     "data": {
      "text/html": [
       "<iframe id=\"igraph\" scrolling=\"no\" style=\"border:none;\" seamless=\"seamless\" src=\"https://plot.ly/~eyangeric/6.embed\" height=\"525px\" width=\"100%\"></iframe>"
      ],
      "text/plain": [
       "<plotly.tools.PlotlyDisplay object>"
      ]
     },
     "execution_count": 17,
     "metadata": {},
     "output_type": "execute_result"
    }
   ],
   "source": [
    "#2008 choropleth map of heart disease age-adjusted death rates\n",
    "HD2008_fig = dict( data=HD2008_data, layout=layout )\n",
    "plotly.plotly.iplot( HD2008_fig, filename='HD2008-cloropleth-map' )"
   ]
  },
  {
   "cell_type": "code",
   "execution_count": 18,
   "metadata": {},
   "outputs": [
    {
     "data": {
      "text/html": [
       "<iframe id=\"igraph\" scrolling=\"no\" style=\"border:none;\" seamless=\"seamless\" src=\"https://plot.ly/~eyangeric/8.embed\" height=\"525px\" width=\"100%\"></iframe>"
      ],
      "text/plain": [
       "<plotly.tools.PlotlyDisplay object>"
      ]
     },
     "execution_count": 18,
     "metadata": {},
     "output_type": "execute_result"
    }
   ],
   "source": [
    "#2000 choropleth map of heart disease age-adjusted death rates\n",
    "HD2000_fig = dict( data=HD2000_data, layout=layout )\n",
    "plotly.plotly.iplot( HD2000_fig, filename='HD2000-cloropleth-map' )"
   ]
  },
  {
   "cell_type": "code",
   "execution_count": 19,
   "metadata": {},
   "outputs": [
    {
     "data": {
      "text/html": [
       "<iframe id=\"igraph\" scrolling=\"no\" style=\"border:none;\" seamless=\"seamless\" src=\"https://plot.ly/~eyangeric/4.embed\" height=\"525px\" width=\"100%\"></iframe>"
      ],
      "text/plain": [
       "<plotly.tools.PlotlyDisplay object>"
      ]
     },
     "execution_count": 19,
     "metadata": {},
     "output_type": "execute_result"
    }
   ],
   "source": [
    "#2016 choropleth map of cancer age-adjusted death rates\n",
    "Cancer2016_fig = dict( data=Cancer2016_data, layout=layout )\n",
    "plotly.plotly.iplot( Cancer2016_fig, filename='Cancer2016-cloropleth-map' )"
   ]
  },
  {
   "cell_type": "code",
   "execution_count": 20,
   "metadata": {},
   "outputs": [
    {
     "data": {
      "text/html": [
       "<iframe id=\"igraph\" scrolling=\"no\" style=\"border:none;\" seamless=\"seamless\" src=\"https://plot.ly/~eyangeric/10.embed\" height=\"525px\" width=\"100%\"></iframe>"
      ],
      "text/plain": [
       "<plotly.tools.PlotlyDisplay object>"
      ]
     },
     "execution_count": 20,
     "metadata": {},
     "output_type": "execute_result"
    }
   ],
   "source": [
    "#20108 choropleth map of cancer age-adjusted death rates\n",
    "Cancer2008_fig = dict( data=Cancer2008_data, layout=layout )\n",
    "plotly.plotly.iplot( Cancer2008_fig, filename='Cancer2008-cloropleth-map' )"
   ]
  },
  {
   "cell_type": "code",
   "execution_count": 23,
   "metadata": {},
   "outputs": [
    {
     "data": {
      "text/html": [
       "<iframe id=\"igraph\" scrolling=\"no\" style=\"border:none;\" seamless=\"seamless\" src=\"https://plot.ly/~eyangeric/12.embed\" height=\"525px\" width=\"100%\"></iframe>"
      ],
      "text/plain": [
       "<plotly.tools.PlotlyDisplay object>"
      ]
     },
     "execution_count": 23,
     "metadata": {},
     "output_type": "execute_result"
    }
   ],
   "source": [
    "#20100 choropleth map of cancer age-adjusted death rates\n",
    "Cancer2000_fig = dict( data=Cancer2000_data, layout=layout )\n",
    "plotly.plotly.iplot( Cancer2000_fig, filename='Cancer2000-cloropleth-map' )"
   ]
  }
 ],
 "metadata": {
  "kernelspec": {
   "display_name": "Python 3",
   "language": "python",
   "name": "python3"
  },
  "language_info": {
   "codemirror_mode": {
    "name": "ipython",
    "version": 3
   },
   "file_extension": ".py",
   "mimetype": "text/x-python",
   "name": "python",
   "nbconvert_exporter": "python",
   "pygments_lexer": "ipython3",
   "version": "3.7.0"
  }
 },
 "nbformat": 4,
 "nbformat_minor": 2
}
